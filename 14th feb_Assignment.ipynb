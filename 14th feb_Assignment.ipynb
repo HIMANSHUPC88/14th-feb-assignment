{
 "cells": [
  {
   "cell_type": "markdown",
   "id": "f1a2b7bb-2ffa-4613-9647-84e626db1be1",
   "metadata": {},
   "source": [
    "# Q1. What is multithreading in python? Why is it used? Name the module used to handle threads in python."
   ]
  },
  {
   "cell_type": "code",
   "execution_count": null,
   "id": "40ed55a8-3312-40ab-9213-04539ce28f78",
   "metadata": {},
   "outputs": [],
   "source": [
    "answer : Multithreading is a technique that allows multiple threads to excute concorrent code at the same time. Multithreading is used to improve the performance of the\n",
    "code by reducting the time taken to excute the code. Threading module is used to handle threads in python."
   ]
  },
  {
   "cell_type": "markdown",
   "id": "36c7d5ba-22c0-4804-90c6-1d8c8f53f5d9",
   "metadata": {},
   "source": [
    "# Q2. Why threading module used ? Write the use of the following functions:\n",
    "# 1. activeCount()\n",
    "# 2. currentThread()\n",
    "# 3. enumerate()"
   ]
  },
  {
   "cell_type": "code",
   "execution_count": null,
   "id": "cce07be2-9730-4d53-96ea-bac94870ce73",
   "metadata": {},
   "outputs": [],
   "source": [
    "Answer: Threading module is used to handle threads in python.\n",
    "uses of these functions:\n",
    "1. activeCount() - Active count function is used to retrieve the number of currentty active threads.it returns the thread objects that are in alive state.\n",
    "2. currenThread() - return the current thread.\n",
    "3. enumerate() - it allows us to access the both index and value of the each element in a sequence during iteration. "
   ]
  },
  {
   "cell_type": "markdown",
   "id": "13288512-19d7-4641-a746-8f79ffb2836c",
   "metadata": {},
   "source": [
    "# Q3. Expain the following functions:\n",
    "# 1.run()\n",
    "# 2.start()\n",
    "# 3.join()\n",
    "# 4.isAlive()"
   ]
  },
  {
   "cell_type": "markdown",
   "id": "6bf42a6f-199a-408c-ade8-f14b8bd22226",
   "metadata": {},
   "source": [
    "# Answer:"
   ]
  },
  {
   "cell_type": "code",
   "execution_count": null,
   "id": "afc426fd-b8aa-4ed7-a388-7b995cf7315f",
   "metadata": {},
   "outputs": [],
   "source": [
    "Run() - It is used to start the thread.\n",
    "Start() - It is used to start the threat.\n",
    "Join() - Join fuction ensures the program's main thread waits for of all thread to complete their excution before proceding further.\n",
    "IsAlive() - It is used to check if the thread is alive or not. it returns the boolen value.IsAlive() function is used to obsurve the condition of the thread."
   ]
  },
  {
   "cell_type": "markdown",
   "id": "f28b5215-fcca-45ef-915b-7dce15caaa76",
   "metadata": {},
   "source": [
    "# Q4. Write a python program to create two threads. Thread one must print the list of squares and thread two must print the list of cubes."
   ]
  },
  {
   "cell_type": "code",
   "execution_count": 22,
   "id": "a761d909-d1d8-4f54-adde-14056db4d435",
   "metadata": {},
   "outputs": [
    {
     "name": "stdout",
     "output_type": "stream",
     "text": [
      "1\n",
      "4\n",
      "9\n",
      "16\n",
      "25\n",
      "36\n",
      "49\n",
      "64\n",
      "81\n",
      "100\n",
      "1\n",
      "8\n",
      "27\n",
      "64\n",
      "125\n",
      "216\n",
      "343\n",
      "512\n",
      "729\n",
      "1000\n",
      "Main thread finished\n"
     ]
    }
   ],
   "source": [
    "import threading\n",
    "def square():\n",
    "    for i in range(1,11):\n",
    "        \n",
    "#Now we are including time in this code.\n",
    "        print(i*i)\n",
    "def cube():\n",
    "    for i in range(1,11):\n",
    "        \n",
    "# Now we have to include timing in this code        \n",
    "        print(i*i*i) \n",
    "    \n",
    "# creating a thread object.\n",
    "T1 = threading.Thread(target=square)\n",
    "T2 = threading.Thread(target=cube)\n",
    "\n",
    "#strting the thread\n",
    "\n",
    "T1.start()\n",
    "T2.start()\n",
    "# waiting for both threads to finish.  \n",
    "T1.join()\n",
    "T2.join()\n",
    "print(\"Main thread finished\")"
   ]
  },
  {
   "cell_type": "markdown",
   "id": "4dd08aee-bd46-4109-a386-506d6f8ac6f8",
   "metadata": {},
   "source": [
    "# Q5. state advantages and disadvantages of multithreading."
   ]
  },
  {
   "cell_type": "code",
   "execution_count": null,
   "id": "e26fa78f-b7fe-4274-a016-5dc78939603d",
   "metadata": {},
   "outputs": [],
   "source": [
    "Advantages of Multithreading.\n",
    "1.Concurrency. Threading allows for concurrency excution of multiple threads within a single program.this can improve overall \n",
    "performance and efficiency of the appliction, espeically when dealing with task that can be excuted independently or concurrently.\n",
    "\n",
    "2.Asynchronous I/O = Threading can be usefull for asyncronous I/O operations.by offload I/O to seprate threads.You can provent blocking \n",
    "and maximizing the utilization  of cpu time for oher operation.\n",
    "\n",
    "Dis-Advantages of Multithreading.\n",
    "1.Global interpreter lock - python has a Global interpreter lock (GIl) that allows only one thread to excute python bytecode at a time\n",
    " "
   ]
  },
  {
   "cell_type": "markdown",
   "id": "791e96d1-47c2-4b20-918e-abbed8220db4",
   "metadata": {},
   "source": [
    "# Q6. Explane deadlock and race condition."
   ]
  },
  {
   "cell_type": "code",
   "execution_count": null,
   "id": "b42c717a-7503-450a-99c4-740d46d75767",
   "metadata": {},
   "outputs": [],
   "source": [
    "-> Deadlock reffers to situation when two and more threads unable to excutes because of each of waiting for other's release resourses .\n",
    "-> Race condition occours when many threads access shared resourses or variable concurrently. and the final outcome depends upon the order of excution of those threads. "
   ]
  }
 ],
 "metadata": {
  "kernelspec": {
   "display_name": "Python 3 (ipykernel)",
   "language": "python",
   "name": "python3"
  },
  "language_info": {
   "codemirror_mode": {
    "name": "ipython",
    "version": 3
   },
   "file_extension": ".py",
   "mimetype": "text/x-python",
   "name": "python",
   "nbconvert_exporter": "python",
   "pygments_lexer": "ipython3",
   "version": "3.10.8"
  }
 },
 "nbformat": 4,
 "nbformat_minor": 5
}
